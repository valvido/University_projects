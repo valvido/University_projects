{
 "cells": [
  {
   "cell_type": "markdown",
   "id": "509b4b73-2e60-4bdb-ae71-c98ecee3b56f",
   "metadata": {},
   "source": [
    "# Uvod u analizu podataka: 1. domaća zadaća "
   ]
  },
  {
   "cell_type": "markdown",
   "id": "5326cb62-1e10-4205-a716-5b71c70b8255",
   "metadata": {},
   "source": [
    "Ucitavam dataset preuzet sa web-a: https://www.kaggle.com/datasets/joshuanaude/effects-of-alcohol-on-student-performance i potrebne biblioteke za daljni rad sa podatcima. \n"
   ]
  },
  {
   "cell_type": "code",
   "execution_count": 1,
   "id": "1ab6405b-15b2-4efa-a350-318945534fd4",
   "metadata": {},
   "outputs": [],
   "source": [
    "import pandas as pd\n",
    "import numpy as np\n",
    "import matplotlib.pyplot as plt\n",
    "from sklearn.linear_model import LinearRegression"
   ]
  },
  {
   "cell_type": "code",
   "execution_count": 2,
   "id": "ede6d236-cb2b-4115-a243-137be5100037",
   "metadata": {},
   "outputs": [
    {
     "data": {
      "text/html": [
       "<div>\n",
       "<style scoped>\n",
       "    .dataframe tbody tr th:only-of-type {\n",
       "        vertical-align: middle;\n",
       "    }\n",
       "\n",
       "    .dataframe tbody tr th {\n",
       "        vertical-align: top;\n",
       "    }\n",
       "\n",
       "    .dataframe thead th {\n",
       "        text-align: right;\n",
       "    }\n",
       "</style>\n",
       "<table border=\"1\" class=\"dataframe\">\n",
       "  <thead>\n",
       "    <tr style=\"text-align: right;\">\n",
       "      <th></th>\n",
       "      <th>Timestamp</th>\n",
       "      <th>Your Sex?</th>\n",
       "      <th>Your Matric (grade 12) Average/ GPA (in %)</th>\n",
       "      <th>What year were you in last year (2023) ?</th>\n",
       "      <th>What faculty does your degree fall under?</th>\n",
       "      <th>Your 2023 academic year average/GPA in % (Ignore if you are 2024 1st year student)</th>\n",
       "      <th>Your Accommodation Status Last Year (2023)</th>\n",
       "      <th>Monthly Allowance in 2023</th>\n",
       "      <th>Were you on scholarship/bursary in 2023?</th>\n",
       "      <th>Additional amount of studying (in hrs) per week</th>\n",
       "      <th>How often do you go out partying/socialising during the week?</th>\n",
       "      <th>On a night out, how many alcoholic drinks do you consume?</th>\n",
       "      <th>How many classes do you miss per week due to alcohol reasons, (i.e: being hungover or too tired?)</th>\n",
       "      <th>How many modules have you failed thus far into your studies?</th>\n",
       "      <th>Are you currently in a romantic relationship?</th>\n",
       "      <th>Do your parents approve alcohol consumption?</th>\n",
       "      <th>How strong is your relationship with your parent/s?</th>\n",
       "    </tr>\n",
       "  </thead>\n",
       "  <tbody>\n",
       "    <tr>\n",
       "      <th>0</th>\n",
       "      <td>2024/03/07 5:12:01 pm EET</td>\n",
       "      <td>Female</td>\n",
       "      <td>76.0</td>\n",
       "      <td>2nd Year</td>\n",
       "      <td>Arts &amp; Social Sciences</td>\n",
       "      <td>72.0</td>\n",
       "      <td>Private accommodation/ stay with family/friends</td>\n",
       "      <td>R 4001- R 5000</td>\n",
       "      <td>No</td>\n",
       "      <td>8+</td>\n",
       "      <td>Only weekends</td>\n",
       "      <td>8+</td>\n",
       "      <td>3</td>\n",
       "      <td>0</td>\n",
       "      <td>Yes</td>\n",
       "      <td>Yes</td>\n",
       "      <td>Very close</td>\n",
       "    </tr>\n",
       "    <tr>\n",
       "      <th>1</th>\n",
       "      <td>2024/03/07 5:12:08 pm EET</td>\n",
       "      <td>Male</td>\n",
       "      <td>89.0</td>\n",
       "      <td>2nd Year</td>\n",
       "      <td>Economic &amp; Management Sciences</td>\n",
       "      <td>75.0</td>\n",
       "      <td>Private accommodation/ stay with family/friends</td>\n",
       "      <td>R 7001 - R 8000</td>\n",
       "      <td>Yes (NSFAS, etc...)</td>\n",
       "      <td>8+</td>\n",
       "      <td>Only weekends</td>\n",
       "      <td>3-5</td>\n",
       "      <td>4+</td>\n",
       "      <td>0</td>\n",
       "      <td>No</td>\n",
       "      <td>Yes</td>\n",
       "      <td>Very close</td>\n",
       "    </tr>\n",
       "    <tr>\n",
       "      <th>2</th>\n",
       "      <td>2024/03/07 5:12:25 pm EET</td>\n",
       "      <td>Male</td>\n",
       "      <td>76.0</td>\n",
       "      <td>1st Year</td>\n",
       "      <td>AgriSciences</td>\n",
       "      <td>55.0</td>\n",
       "      <td>Private accommodation/ stay with family/friends</td>\n",
       "      <td>R 4001- R 5000</td>\n",
       "      <td>No</td>\n",
       "      <td>3-5</td>\n",
       "      <td>2</td>\n",
       "      <td>8+</td>\n",
       "      <td>3</td>\n",
       "      <td>0</td>\n",
       "      <td>No</td>\n",
       "      <td>Yes</td>\n",
       "      <td>Very close</td>\n",
       "    </tr>\n",
       "    <tr>\n",
       "      <th>3</th>\n",
       "      <td>2024/03/07 5:12:28 pm EET</td>\n",
       "      <td>Male</td>\n",
       "      <td>89.0</td>\n",
       "      <td>2nd Year</td>\n",
       "      <td>Engineering</td>\n",
       "      <td>84.0</td>\n",
       "      <td>Private accommodation/ stay with family/friends</td>\n",
       "      <td>R 6001 - R 7000</td>\n",
       "      <td>No</td>\n",
       "      <td>3-5</td>\n",
       "      <td>3</td>\n",
       "      <td>8+</td>\n",
       "      <td>2</td>\n",
       "      <td>0</td>\n",
       "      <td>Yes</td>\n",
       "      <td>Yes</td>\n",
       "      <td>Very close</td>\n",
       "    </tr>\n",
       "    <tr>\n",
       "      <th>4</th>\n",
       "      <td>2024/03/07 5:13:00 pm EET</td>\n",
       "      <td>Female</td>\n",
       "      <td>74.0</td>\n",
       "      <td>2nd Year</td>\n",
       "      <td>Arts &amp; Social Sciences</td>\n",
       "      <td>52.0</td>\n",
       "      <td>Private accommodation/ stay with family/friends</td>\n",
       "      <td>R 4001- R 5000</td>\n",
       "      <td>No</td>\n",
       "      <td>3-5</td>\n",
       "      <td>Only weekends</td>\n",
       "      <td>5-8</td>\n",
       "      <td>1</td>\n",
       "      <td>3</td>\n",
       "      <td>No</td>\n",
       "      <td>Yes</td>\n",
       "      <td>Fair</td>\n",
       "    </tr>\n",
       "  </tbody>\n",
       "</table>\n",
       "</div>"
      ],
      "text/plain": [
       "                   Timestamp Your Sex?  \\\n",
       "0  2024/03/07 5:12:01 pm EET    Female   \n",
       "1  2024/03/07 5:12:08 pm EET      Male   \n",
       "2  2024/03/07 5:12:25 pm EET      Male   \n",
       "3  2024/03/07 5:12:28 pm EET      Male   \n",
       "4  2024/03/07 5:13:00 pm EET    Female   \n",
       "\n",
       "   Your Matric (grade 12) Average/ GPA (in %)  \\\n",
       "0                                        76.0   \n",
       "1                                        89.0   \n",
       "2                                        76.0   \n",
       "3                                        89.0   \n",
       "4                                        74.0   \n",
       "\n",
       "  What year were you in last year (2023) ?  \\\n",
       "0                                 2nd Year   \n",
       "1                                 2nd Year   \n",
       "2                                 1st Year   \n",
       "3                                 2nd Year   \n",
       "4                                 2nd Year   \n",
       "\n",
       "  What faculty does your degree fall under?  \\\n",
       "0                    Arts & Social Sciences   \n",
       "1            Economic & Management Sciences   \n",
       "2                              AgriSciences   \n",
       "3                               Engineering   \n",
       "4                    Arts & Social Sciences   \n",
       "\n",
       "   Your 2023 academic year average/GPA in % (Ignore if you are 2024 1st year student)  \\\n",
       "0                                               72.0                                    \n",
       "1                                               75.0                                    \n",
       "2                                               55.0                                    \n",
       "3                                               84.0                                    \n",
       "4                                               52.0                                    \n",
       "\n",
       "        Your Accommodation Status Last Year (2023) Monthly Allowance in 2023  \\\n",
       "0  Private accommodation/ stay with family/friends            R 4001- R 5000   \n",
       "1  Private accommodation/ stay with family/friends           R 7001 - R 8000   \n",
       "2  Private accommodation/ stay with family/friends            R 4001- R 5000   \n",
       "3  Private accommodation/ stay with family/friends           R 6001 - R 7000   \n",
       "4  Private accommodation/ stay with family/friends            R 4001- R 5000   \n",
       "\n",
       "  Were you on scholarship/bursary in 2023?  \\\n",
       "0                                       No   \n",
       "1                      Yes (NSFAS, etc...)   \n",
       "2                                       No   \n",
       "3                                       No   \n",
       "4                                       No   \n",
       "\n",
       "  Additional amount of studying (in hrs) per week  \\\n",
       "0                                              8+   \n",
       "1                                              8+   \n",
       "2                                             3-5   \n",
       "3                                             3-5   \n",
       "4                                             3-5   \n",
       "\n",
       "  How often do you go out partying/socialising during the week?   \\\n",
       "0                                      Only weekends               \n",
       "1                                      Only weekends               \n",
       "2                                                  2               \n",
       "3                                                  3               \n",
       "4                                      Only weekends               \n",
       "\n",
       "  On a night out, how many alcoholic drinks do you consume?  \\\n",
       "0                                                 8+          \n",
       "1                                                3-5          \n",
       "2                                                 8+          \n",
       "3                                                 8+          \n",
       "4                                                5-8          \n",
       "\n",
       "  How many classes do you miss per week due to alcohol reasons, (i.e: being hungover or too tired?)  \\\n",
       "0                                                  3                                                  \n",
       "1                                                 4+                                                  \n",
       "2                                                  3                                                  \n",
       "3                                                  2                                                  \n",
       "4                                                  1                                                  \n",
       "\n",
       "  How many modules have you failed thus far into your studies?  \\\n",
       "0                                                  0             \n",
       "1                                                  0             \n",
       "2                                                  0             \n",
       "3                                                  0             \n",
       "4                                                  3             \n",
       "\n",
       "  Are you currently in a romantic relationship?  \\\n",
       "0                                           Yes   \n",
       "1                                            No   \n",
       "2                                            No   \n",
       "3                                           Yes   \n",
       "4                                            No   \n",
       "\n",
       "  Do your parents approve alcohol consumption?  \\\n",
       "0                                          Yes   \n",
       "1                                          Yes   \n",
       "2                                          Yes   \n",
       "3                                          Yes   \n",
       "4                                          Yes   \n",
       "\n",
       "  How strong is your relationship with your parent/s?  \n",
       "0                                         Very close   \n",
       "1                                         Very close   \n",
       "2                                         Very close   \n",
       "3                                         Very close   \n",
       "4                                               Fair   "
      ]
     },
     "execution_count": 2,
     "metadata": {},
     "output_type": "execute_result"
    }
   ],
   "source": [
    "path = '/Users/valentinavidovic/Documents/alcohol-student_performance.csv'\n",
    "df = pd.read_csv(path)\n",
    "df.head()"
   ]
  },
  {
   "cell_type": "markdown",
   "id": "8a816b3a",
   "metadata": {},
   "source": [
    "Ispisujem osnovne informacije o podatcima kako bih vidjela sve varijable koje sadrže i eventualne greške"
   ]
  },
  {
   "cell_type": "code",
   "execution_count": 3,
   "id": "d5893f22-85d4-4b1f-a219-57dbf2a18507",
   "metadata": {},
   "outputs": [
    {
     "name": "stdout",
     "output_type": "stream",
     "text": [
      "<class 'pandas.core.frame.DataFrame'>\n",
      "RangeIndex: 406 entries, 0 to 405\n",
      "Data columns (total 17 columns):\n",
      " #   Column                                                                                             Non-Null Count  Dtype  \n",
      "---  ------                                                                                             --------------  -----  \n",
      " 0   Timestamp                                                                                          406 non-null    object \n",
      " 1   Your Sex?                                                                                          404 non-null    object \n",
      " 2   Your Matric (grade 12) Average/ GPA (in %)                                                         399 non-null    float64\n",
      " 3   What year were you in last year (2023) ?                                                           333 non-null    object \n",
      " 4   What faculty does your degree fall under?                                                          399 non-null    object \n",
      " 5   Your 2023 academic year average/GPA in % (Ignore if you are 2024 1st year student)                 320 non-null    float64\n",
      " 6   Your Accommodation Status Last Year (2023)                                                         383 non-null    object \n",
      " 7   Monthly Allowance in 2023                                                                          375 non-null    object \n",
      " 8   Were you on scholarship/bursary in 2023?                                                           398 non-null    object \n",
      " 9   Additional amount of studying (in hrs) per week                                                    403 non-null    object \n",
      " 10  How often do you go out partying/socialising during the week?                                      404 non-null    object \n",
      " 11  On a night out, how many alcoholic drinks do you consume?                                          404 non-null    object \n",
      " 12  How many classes do you miss per week due to alcohol reasons, (i.e: being hungover or too tired?)  403 non-null    object \n",
      " 13  How many modules have you failed thus far into your studies?                                       403 non-null    object \n",
      " 14  Are you currently in a romantic relationship?                                                      403 non-null    object \n",
      " 15  Do your parents approve alcohol consumption?                                                       402 non-null    object \n",
      " 16  How strong is your relationship with your parent/s?                                                403 non-null    object \n",
      "dtypes: float64(2), object(15)\n",
      "memory usage: 54.1+ KB\n"
     ]
    }
   ],
   "source": [
    "df.info()"
   ]
  },
  {
   "cell_type": "markdown",
   "id": "2f642646-e56d-4807-a511-b9bef309c3d2",
   "metadata": {},
   "source": [
    "## Čišćenje podataka"
   ]
  },
  {
   "cell_type": "markdown",
   "id": "f44811ad-1905-44a1-8db0-7010a2282c40",
   "metadata": {},
   "source": [
    "### Brisanje svih studenata koji su 2023 godine bili u srednjoj školi"
   ]
  },
  {
   "cell_type": "markdown",
   "id": "2e35a65c-2139-436b-956b-6d7dabd60f91",
   "metadata": {},
   "source": [
    "U napomeni na web stranice s koje su preuzeti podatci napisano je:\"You will see some responses on \"what year were you in last year\" have been left blank which indicates that the students previous year of study was not in university but rather high school. Since the point of the model is to be based on university students, these observations that have been left blank will be removed so that only students who were in university in 2023 and onwards are taken into consideration.\" Iz tog razloga ćemo izbrisati sve unose za koje je godina studiranja null funkcijom notna()."
   ]
  },
  {
   "cell_type": "code",
   "execution_count": 4,
   "id": "3114e309-1414-49ac-a502-5dbd9bf93979",
   "metadata": {},
   "outputs": [
    {
     "name": "stdout",
     "output_type": "stream",
     "text": [
      "<class 'pandas.core.frame.DataFrame'>\n",
      "Index: 333 entries, 0 to 405\n",
      "Data columns (total 17 columns):\n",
      " #   Column                                                                                             Non-Null Count  Dtype  \n",
      "---  ------                                                                                             --------------  -----  \n",
      " 0   Timestamp                                                                                          333 non-null    object \n",
      " 1   Your Sex?                                                                                          333 non-null    object \n",
      " 2   Your Matric (grade 12) Average/ GPA (in %)                                                         330 non-null    float64\n",
      " 3   What year were you in last year (2023) ?                                                           333 non-null    object \n",
      " 4   What faculty does your degree fall under?                                                          329 non-null    object \n",
      " 5   Your 2023 academic year average/GPA in % (Ignore if you are 2024 1st year student)                 319 non-null    float64\n",
      " 6   Your Accommodation Status Last Year (2023)                                                         330 non-null    object \n",
      " 7   Monthly Allowance in 2023                                                                          318 non-null    object \n",
      " 8   Were you on scholarship/bursary in 2023?                                                           333 non-null    object \n",
      " 9   Additional amount of studying (in hrs) per week                                                    333 non-null    object \n",
      " 10  How often do you go out partying/socialising during the week?                                      333 non-null    object \n",
      " 11  On a night out, how many alcoholic drinks do you consume?                                          333 non-null    object \n",
      " 12  How many classes do you miss per week due to alcohol reasons, (i.e: being hungover or too tired?)  332 non-null    object \n",
      " 13  How many modules have you failed thus far into your studies?                                       333 non-null    object \n",
      " 14  Are you currently in a romantic relationship?                                                      332 non-null    object \n",
      " 15  Do your parents approve alcohol consumption?                                                       331 non-null    object \n",
      " 16  How strong is your relationship with your parent/s?                                                332 non-null    object \n",
      "dtypes: float64(2), object(15)\n",
      "memory usage: 46.8+ KB\n"
     ]
    }
   ],
   "source": [
    "df = df[df['What year were you in last year (2023) ?'].notna()]\n",
    "df.info()"
   ]
  },
  {
   "cell_type": "markdown",
   "id": "9178f0e9-c731-435b-8397-52c34a73d0cb",
   "metadata": {},
   "source": [
    "### Brisanje svih unosa gdje studenti nisu unjeli gpa"
   ]
  },
  {
   "cell_type": "code",
   "execution_count": 5,
   "id": "d5e39d5c-9c30-40eb-8c87-ecd2bf9c3994",
   "metadata": {},
   "outputs": [
    {
     "name": "stdout",
     "output_type": "stream",
     "text": [
      "<class 'pandas.core.frame.DataFrame'>\n",
      "Index: 330 entries, 0 to 405\n",
      "Data columns (total 17 columns):\n",
      " #   Column                                                                                             Non-Null Count  Dtype  \n",
      "---  ------                                                                                             --------------  -----  \n",
      " 0   Timestamp                                                                                          330 non-null    object \n",
      " 1   Your Sex?                                                                                          330 non-null    object \n",
      " 2   Your Matric (grade 12) Average/ GPA (in %)                                                         330 non-null    float64\n",
      " 3   What year were you in last year (2023) ?                                                           330 non-null    object \n",
      " 4   What faculty does your degree fall under?                                                          326 non-null    object \n",
      " 5   Your 2023 academic year average/GPA in % (Ignore if you are 2024 1st year student)                 317 non-null    float64\n",
      " 6   Your Accommodation Status Last Year (2023)                                                         327 non-null    object \n",
      " 7   Monthly Allowance in 2023                                                                          315 non-null    object \n",
      " 8   Were you on scholarship/bursary in 2023?                                                           330 non-null    object \n",
      " 9   Additional amount of studying (in hrs) per week                                                    330 non-null    object \n",
      " 10  How often do you go out partying/socialising during the week?                                      330 non-null    object \n",
      " 11  On a night out, how many alcoholic drinks do you consume?                                          330 non-null    object \n",
      " 12  How many classes do you miss per week due to alcohol reasons, (i.e: being hungover or too tired?)  329 non-null    object \n",
      " 13  How many modules have you failed thus far into your studies?                                       330 non-null    object \n",
      " 14  Are you currently in a romantic relationship?                                                      329 non-null    object \n",
      " 15  Do your parents approve alcohol consumption?                                                       328 non-null    object \n",
      " 16  How strong is your relationship with your parent/s?                                                329 non-null    object \n",
      "dtypes: float64(2), object(15)\n",
      "memory usage: 46.4+ KB\n"
     ]
    }
   ],
   "source": [
    "df = df[df['Your Matric (grade 12) Average/ GPA (in %)'].notna()]\n",
    "df.info()"
   ]
  },
  {
   "cell_type": "markdown",
   "id": "895fd468-ce93-483a-b975-c48fad733623",
   "metadata": {},
   "source": [
    "### Brisanje svih unosa gdje studenti nisu odgovorili na pitanje How many classes do you miss per week due to alcohol reasons, (i.e: being hungover or too tired?)"
   ]
  },
  {
   "cell_type": "code",
   "execution_count": 6,
   "id": "44ae4300-c9a1-491c-8031-91fab55d0e8a",
   "metadata": {},
   "outputs": [
    {
     "name": "stdout",
     "output_type": "stream",
     "text": [
      "<class 'pandas.core.frame.DataFrame'>\n",
      "Index: 329 entries, 0 to 405\n",
      "Data columns (total 17 columns):\n",
      " #   Column                                                                                             Non-Null Count  Dtype  \n",
      "---  ------                                                                                             --------------  -----  \n",
      " 0   Timestamp                                                                                          329 non-null    object \n",
      " 1   Your Sex?                                                                                          329 non-null    object \n",
      " 2   Your Matric (grade 12) Average/ GPA (in %)                                                         329 non-null    float64\n",
      " 3   What year were you in last year (2023) ?                                                           329 non-null    object \n",
      " 4   What faculty does your degree fall under?                                                          325 non-null    object \n",
      " 5   Your 2023 academic year average/GPA in % (Ignore if you are 2024 1st year student)                 316 non-null    float64\n",
      " 6   Your Accommodation Status Last Year (2023)                                                         326 non-null    object \n",
      " 7   Monthly Allowance in 2023                                                                          314 non-null    object \n",
      " 8   Were you on scholarship/bursary in 2023?                                                           329 non-null    object \n",
      " 9   Additional amount of studying (in hrs) per week                                                    329 non-null    object \n",
      " 10  How often do you go out partying/socialising during the week?                                      329 non-null    object \n",
      " 11  On a night out, how many alcoholic drinks do you consume?                                          329 non-null    object \n",
      " 12  How many classes do you miss per week due to alcohol reasons, (i.e: being hungover or too tired?)  329 non-null    object \n",
      " 13  How many modules have you failed thus far into your studies?                                       329 non-null    object \n",
      " 14  Are you currently in a romantic relationship?                                                      328 non-null    object \n",
      " 15  Do your parents approve alcohol consumption?                                                       327 non-null    object \n",
      " 16  How strong is your relationship with your parent/s?                                                328 non-null    object \n",
      "dtypes: float64(2), object(15)\n",
      "memory usage: 46.3+ KB\n"
     ]
    }
   ],
   "source": [
    "df = df[df['How many classes do you miss per week due to alcohol reasons, (i.e: being hungover or too tired?)'].notna()]\n",
    "df.info()"
   ]
  },
  {
   "cell_type": "markdown",
   "id": "5d8cd308",
   "metadata": {},
   "source": [
    "Korištenjem funkcije unique ispisujem sve vrijednosti koje postiže varijabla 'How many classes do you miss per week due to alcohol reasons, (i.e: being hungover or too tired?)'"
   ]
  },
  {
   "cell_type": "code",
   "execution_count": 7,
   "id": "9ac92ddf-204a-4bb5-9578-d4ab2fb86790",
   "metadata": {},
   "outputs": [
    {
     "data": {
      "text/plain": [
       "array(['3', '4+', '2', '1', '0'], dtype=object)"
      ]
     },
     "execution_count": 7,
     "metadata": {},
     "output_type": "execute_result"
    }
   ],
   "source": [
    "df['How many classes do you miss per week due to alcohol reasons, (i.e: being hungover or too tired?)'].unique()"
   ]
  },
  {
   "cell_type": "markdown",
   "id": "1122278d-bd7c-4344-b22d-208d6ba255a4",
   "metadata": {},
   "source": [
    "## Kreiranje nove tablice sa relevantnim podatcima i provjera ispravnosti podataka"
   ]
  },
  {
   "cell_type": "markdown",
   "id": "233695e1-4f46-4e38-9edf-2a8a611f1e65",
   "metadata": {},
   "source": [
    "Promatrat ću varijable GPA i broj izlazaka u tjednu, pa ću radi jednostavnosti napraviti novu tablicu sa te dvije varijable i vrijednosti iz How often do you go out partying/socialising during the week? pretvoriti iz tipa object u int (za studente ciji je odgovor 4+ stavit ću 4), to radim funkcijom str.replace"
   ]
  },
  {
   "cell_type": "code",
   "execution_count": 8,
   "id": "26581401-52dc-4367-a9fb-8cc550ac14b2",
   "metadata": {},
   "outputs": [
    {
     "data": {
      "text/html": [
       "<div>\n",
       "<style scoped>\n",
       "    .dataframe tbody tr th:only-of-type {\n",
       "        vertical-align: middle;\n",
       "    }\n",
       "\n",
       "    .dataframe tbody tr th {\n",
       "        vertical-align: top;\n",
       "    }\n",
       "\n",
       "    .dataframe thead th {\n",
       "        text-align: right;\n",
       "    }\n",
       "</style>\n",
       "<table border=\"1\" class=\"dataframe\">\n",
       "  <thead>\n",
       "    <tr style=\"text-align: right;\">\n",
       "      <th></th>\n",
       "      <th>gpa</th>\n",
       "      <th>days</th>\n",
       "    </tr>\n",
       "  </thead>\n",
       "  <tbody>\n",
       "    <tr>\n",
       "      <th>0</th>\n",
       "      <td>76.0</td>\n",
       "      <td>3</td>\n",
       "    </tr>\n",
       "    <tr>\n",
       "      <th>1</th>\n",
       "      <td>89.0</td>\n",
       "      <td>4+</td>\n",
       "    </tr>\n",
       "    <tr>\n",
       "      <th>2</th>\n",
       "      <td>76.0</td>\n",
       "      <td>3</td>\n",
       "    </tr>\n",
       "    <tr>\n",
       "      <th>3</th>\n",
       "      <td>89.0</td>\n",
       "      <td>2</td>\n",
       "    </tr>\n",
       "    <tr>\n",
       "      <th>4</th>\n",
       "      <td>74.0</td>\n",
       "      <td>1</td>\n",
       "    </tr>\n",
       "  </tbody>\n",
       "</table>\n",
       "</div>"
      ],
      "text/plain": [
       "    gpa days\n",
       "0  76.0    3\n",
       "1  89.0   4+\n",
       "2  76.0    3\n",
       "3  89.0    2\n",
       "4  74.0    1"
      ]
     },
     "execution_count": 8,
     "metadata": {},
     "output_type": "execute_result"
    }
   ],
   "source": [
    "ndf = df[['Your Matric (grade 12) Average/ GPA (in %)', 'How many classes do you miss per week due to alcohol reasons, (i.e: being hungover or too tired?)']].rename(columns={\n",
    "    'Your Matric (grade 12) Average/ GPA (in %)': 'gpa',\n",
    "    'How many classes do you miss per week due to alcohol reasons, (i.e: being hungover or too tired?)': 'days'\n",
    "})\n",
    "ndf.head()"
   ]
  },
  {
   "cell_type": "code",
   "execution_count": 9,
   "id": "1636bd09-cadb-4460-9698-3c6a8705f83f",
   "metadata": {},
   "outputs": [
    {
     "data": {
      "text/html": [
       "<div>\n",
       "<style scoped>\n",
       "    .dataframe tbody tr th:only-of-type {\n",
       "        vertical-align: middle;\n",
       "    }\n",
       "\n",
       "    .dataframe tbody tr th {\n",
       "        vertical-align: top;\n",
       "    }\n",
       "\n",
       "    .dataframe thead th {\n",
       "        text-align: right;\n",
       "    }\n",
       "</style>\n",
       "<table border=\"1\" class=\"dataframe\">\n",
       "  <thead>\n",
       "    <tr style=\"text-align: right;\">\n",
       "      <th></th>\n",
       "      <th>gpa</th>\n",
       "      <th>days</th>\n",
       "    </tr>\n",
       "  </thead>\n",
       "  <tbody>\n",
       "    <tr>\n",
       "      <th>0</th>\n",
       "      <td>76.0</td>\n",
       "      <td>3</td>\n",
       "    </tr>\n",
       "    <tr>\n",
       "      <th>1</th>\n",
       "      <td>89.0</td>\n",
       "      <td>4</td>\n",
       "    </tr>\n",
       "    <tr>\n",
       "      <th>2</th>\n",
       "      <td>76.0</td>\n",
       "      <td>3</td>\n",
       "    </tr>\n",
       "    <tr>\n",
       "      <th>3</th>\n",
       "      <td>89.0</td>\n",
       "      <td>2</td>\n",
       "    </tr>\n",
       "    <tr>\n",
       "      <th>4</th>\n",
       "      <td>74.0</td>\n",
       "      <td>1</td>\n",
       "    </tr>\n",
       "  </tbody>\n",
       "</table>\n",
       "</div>"
      ],
      "text/plain": [
       "    gpa days\n",
       "0  76.0    3\n",
       "1  89.0    4\n",
       "2  76.0    3\n",
       "3  89.0    2\n",
       "4  74.0    1"
      ]
     },
     "execution_count": 9,
     "metadata": {},
     "output_type": "execute_result"
    }
   ],
   "source": [
    "ndf['days'] = ndf['days'].str.replace('+', '')\n",
    "ndf.head()"
   ]
  },
  {
   "cell_type": "code",
   "execution_count": 10,
   "id": "46558d17-32bd-44d5-8724-14b17fe582b8",
   "metadata": {},
   "outputs": [
    {
     "name": "stdout",
     "output_type": "stream",
     "text": [
      "<class 'pandas.core.frame.DataFrame'>\n",
      "Index: 329 entries, 0 to 405\n",
      "Data columns (total 2 columns):\n",
      " #   Column  Non-Null Count  Dtype  \n",
      "---  ------  --------------  -----  \n",
      " 0   gpa     329 non-null    float64\n",
      " 1   days    329 non-null    int64  \n",
      "dtypes: float64(1), int64(1)\n",
      "memory usage: 7.7 KB\n"
     ]
    }
   ],
   "source": [
    "ndf['days'] = ndf['days'].astype(int)\n",
    "ndf.info()"
   ]
  },
  {
   "cell_type": "code",
   "execution_count": 11,
   "id": "0ac32ba6-caac-48eb-b9e5-3155d04b1b24",
   "metadata": {},
   "outputs": [
    {
     "data": {
      "text/plain": [
       "array([76.  , 89.  , 74.  , 80.  , 85.  , 79.  , 72.  , 87.  , 69.  ,\n",
       "       73.  , 83.  , 78.  , 84.  , 86.  , 99.  , 82.6 , 65.  , 81.  ,\n",
       "       88.  , 75.  , 70.  , 98.  , 90.  , 98.33, 82.  , 77.  , 68.  ,\n",
       "       92.  , 91.86, 71.  , 63.  , 67.  , 60.  , 95.  , 86.4 , 95.5 ,\n",
       "       94.  , 66.  , 55.  , 64.  ])"
      ]
     },
     "execution_count": 11,
     "metadata": {},
     "output_type": "execute_result"
    }
   ],
   "source": [
    "ndf['gpa'].unique()"
   ]
  },
  {
   "cell_type": "code",
   "execution_count": 12,
   "id": "c22c5e90-e589-4eba-9267-95cc6f083e05",
   "metadata": {},
   "outputs": [
    {
     "data": {
      "text/plain": [
       "array([3, 4, 2, 1, 0])"
      ]
     },
     "execution_count": 12,
     "metadata": {},
     "output_type": "execute_result"
    }
   ],
   "source": [
    "ndf['days'].unique()"
   ]
  },
  {
   "cell_type": "markdown",
   "id": "75cfbd33-0617-4a48-8db0-feab2148ea68",
   "metadata": {},
   "source": [
    "## Statistički opis varijabli"
   ]
  },
  {
   "cell_type": "markdown",
   "id": "aa73dbfe",
   "metadata": {},
   "source": [
    "Funkcijom describe racunam broj ne nul vrijednosti u svakoj koloni, srednju vrijednost, std, minimum, percentile (Q1, mod i Q3) i maximum"
   ]
  },
  {
   "cell_type": "code",
   "execution_count": 13,
   "id": "6e4016fc-6b60-46ed-b17a-7cb283ab36f5",
   "metadata": {},
   "outputs": [
    {
     "data": {
      "text/html": [
       "<div>\n",
       "<style scoped>\n",
       "    .dataframe tbody tr th:only-of-type {\n",
       "        vertical-align: middle;\n",
       "    }\n",
       "\n",
       "    .dataframe tbody tr th {\n",
       "        vertical-align: top;\n",
       "    }\n",
       "\n",
       "    .dataframe thead th {\n",
       "        text-align: right;\n",
       "    }\n",
       "</style>\n",
       "<table border=\"1\" class=\"dataframe\">\n",
       "  <thead>\n",
       "    <tr style=\"text-align: right;\">\n",
       "      <th></th>\n",
       "      <th>gpa</th>\n",
       "      <th>days</th>\n",
       "    </tr>\n",
       "  </thead>\n",
       "  <tbody>\n",
       "    <tr>\n",
       "      <th>count</th>\n",
       "      <td>329.000000</td>\n",
       "      <td>329.000000</td>\n",
       "    </tr>\n",
       "    <tr>\n",
       "      <th>mean</th>\n",
       "      <td>78.047690</td>\n",
       "      <td>0.987842</td>\n",
       "    </tr>\n",
       "    <tr>\n",
       "      <th>std</th>\n",
       "      <td>6.671662</td>\n",
       "      <td>1.241988</td>\n",
       "    </tr>\n",
       "    <tr>\n",
       "      <th>min</th>\n",
       "      <td>55.000000</td>\n",
       "      <td>0.000000</td>\n",
       "    </tr>\n",
       "    <tr>\n",
       "      <th>25%</th>\n",
       "      <td>74.000000</td>\n",
       "      <td>0.000000</td>\n",
       "    </tr>\n",
       "    <tr>\n",
       "      <th>50%</th>\n",
       "      <td>78.000000</td>\n",
       "      <td>0.000000</td>\n",
       "    </tr>\n",
       "    <tr>\n",
       "      <th>75%</th>\n",
       "      <td>83.000000</td>\n",
       "      <td>2.000000</td>\n",
       "    </tr>\n",
       "    <tr>\n",
       "      <th>max</th>\n",
       "      <td>99.000000</td>\n",
       "      <td>4.000000</td>\n",
       "    </tr>\n",
       "  </tbody>\n",
       "</table>\n",
       "</div>"
      ],
      "text/plain": [
       "              gpa        days\n",
       "count  329.000000  329.000000\n",
       "mean    78.047690    0.987842\n",
       "std      6.671662    1.241988\n",
       "min     55.000000    0.000000\n",
       "25%     74.000000    0.000000\n",
       "50%     78.000000    0.000000\n",
       "75%     83.000000    2.000000\n",
       "max     99.000000    4.000000"
      ]
     },
     "execution_count": 13,
     "metadata": {},
     "output_type": "execute_result"
    }
   ],
   "source": [
    "ndf.describe()"
   ]
  },
  {
   "cell_type": "markdown",
   "id": "27e2fad0-5dd1-4d7d-b1f4-eb7f211ebb9f",
   "metadata": {},
   "source": [
    "## Grafički prikaz točkastim diagramom"
   ]
  },
  {
   "cell_type": "markdown",
   "id": "d44365d2",
   "metadata": {},
   "source": [
    "Za crtanje tockastog dijagrama koristim plt.scatter iz mathplotlib, funkcijom .figure kreiram novi prozor u kojem ce se nalaziti dijagram."
   ]
  },
  {
   "cell_type": "code",
   "execution_count": 14,
   "id": "873975d0-709e-40f4-b59b-def18dbb12e7",
   "metadata": {},
   "outputs": [
    {
     "data": {
      "image/png": "[encoded data removed]",
      "text/plain": [
       "<Figure size 800x600 with 1 Axes>"
      ]
     },
     "metadata": {},
     "output_type": "display_data"
    }
   ],
   "source": [
    "plt.figure(figsize=(8, 6))\n",
    "plt.scatter(ndf['days'], ndf['gpa'], color='skyblue', alpha=0.7)\n",
    "plt.title('Točkasti dijagram za GPA')\n",
    "plt.xlabel('Broj izlazaka tjedno')\n",
    "plt.ylabel('GPA')\n",
    "plt.grid(True)\n",
    "plt.show()"
   ]
  },
  {
   "cell_type": "markdown",
   "id": "6e2665f1-46cf-430e-9e09-914ced3b3e37",
   "metadata": {},
   "source": [
    "## Kovarijanca i korelacija"
   ]
  },
  {
   "cell_type": "markdown",
   "id": "c3775f2a",
   "metadata": {},
   "source": [
    "Koristim funkcije za racunanje kovarijance i korelaicje iz numpy biblioteke."
   ]
  },
  {
   "cell_type": "code",
   "execution_count": 15,
   "id": "17418282-fc2c-4cad-b0dd-eddc729f5ade",
   "metadata": {},
   "outputs": [
    {
     "data": {
      "text/plain": [
       "array([[ 1.54253466,  0.12591695],\n",
       "       [ 0.12591695, 44.51106782]])"
      ]
     },
     "execution_count": 15,
     "metadata": {},
     "output_type": "execute_result"
    }
   ],
   "source": [
    "np.cov(ndf['days'], ndf['gpa'])"
   ]
  },
  {
   "cell_type": "code",
   "execution_count": 16,
   "id": "0dabaa51-a0f2-475c-b54d-00c568d44d00",
   "metadata": {},
   "outputs": [
    {
     "data": {
      "text/plain": [
       "array([[1.        , 0.01519612],\n",
       "       [0.01519612, 1.        ]])"
      ]
     },
     "execution_count": 16,
     "metadata": {},
     "output_type": "execute_result"
    }
   ],
   "source": [
    "np.corrcoef(ndf['days'], ndf['gpa'])"
   ]
  },
  {
   "cell_type": "markdown",
   "id": "e3b6682c-e989-473c-a314-f09799b7e550",
   "metadata": {},
   "source": [
    "Iz provedene analize možemo zaključiti da studenti, u prosjeku, izlaze jednom tjedno te da broj izlazaka tjedno nije u korelaciji sa njihovim uspjehom na fakultetu. Iz tog razloga upotrijebit ću neki drugi set podataka kako bih mogla napraviti linearnu regresiju na prikladnijim podatcima"
   ]
  },
  {
   "cell_type": "markdown",
   "id": "a26d43de-dfaf-4aef-9e26-f14edd38a835",
   "metadata": {},
   "source": [
    "# Dataset 2"
   ]
  },
  {
   "cell_type": "markdown",
   "id": "9862233a-2bd1-49c6-ab3d-6f098c8a88b7",
   "metadata": {},
   "source": [
    "Dataset 2 sadrži ocjene iz matematike učenika nekih dviju srednjih škola u Portugalu. Varijable na koje ću se fokusirati su G1 i G2, tj. ocjena na kraju prvog i drugog polugodišta. Ocjene postižu vrijednosti od 0 do 20. Dataset je preuzet sa https://www.kaggle.com/datasets/ishandutta/student-performance-data-set"
   ]
  },
  {
   "cell_type": "code",
   "execution_count": 17,
   "id": "8787665a-9034-4487-a160-f644059bdfb0",
   "metadata": {},
   "outputs": [
    {
     "data": {
      "text/html": [
       "<div>\n",
       "<style scoped>\n",
       "    .dataframe tbody tr th:only-of-type {\n",
       "        vertical-align: middle;\n",
       "    }\n",
       "\n",
       "    .dataframe tbody tr th {\n",
       "        vertical-align: top;\n",
       "    }\n",
       "\n",
       "    .dataframe thead th {\n",
       "        text-align: right;\n",
       "    }\n",
       "</style>\n",
       "<table border=\"1\" class=\"dataframe\">\n",
       "  <thead>\n",
       "    <tr style=\"text-align: right;\">\n",
       "      <th></th>\n",
       "      <th>school</th>\n",
       "      <th>sex</th>\n",
       "      <th>age</th>\n",
       "      <th>address</th>\n",
       "      <th>famsize</th>\n",
       "      <th>Pstatus</th>\n",
       "      <th>Medu</th>\n",
       "      <th>Fedu</th>\n",
       "      <th>Mjob</th>\n",
       "      <th>Fjob</th>\n",
       "      <th>...</th>\n",
       "      <th>famrel</th>\n",
       "      <th>freetime</th>\n",
       "      <th>goout</th>\n",
       "      <th>Dalc</th>\n",
       "      <th>Walc</th>\n",
       "      <th>health</th>\n",
       "      <th>absences</th>\n",
       "      <th>G1</th>\n",
       "      <th>G2</th>\n",
       "      <th>G3</th>\n",
       "    </tr>\n",
       "  </thead>\n",
       "  <tbody>\n",
       "    <tr>\n",
       "      <th>0</th>\n",
       "      <td>GP</td>\n",
       "      <td>F</td>\n",
       "      <td>18</td>\n",
       "      <td>U</td>\n",
       "      <td>GT3</td>\n",
       "      <td>A</td>\n",
       "      <td>4</td>\n",
       "      <td>4</td>\n",
       "      <td>at_home</td>\n",
       "      <td>teacher</td>\n",
       "      <td>...</td>\n",
       "      <td>4</td>\n",
       "      <td>3</td>\n",
       "      <td>4</td>\n",
       "      <td>1</td>\n",
       "      <td>1</td>\n",
       "      <td>3</td>\n",
       "      <td>6</td>\n",
       "      <td>5</td>\n",
       "      <td>6</td>\n",
       "      <td>6</td>\n",
       "    </tr>\n",
       "    <tr>\n",
       "      <th>1</th>\n",
       "      <td>GP</td>\n",
       "      <td>F</td>\n",
       "      <td>17</td>\n",
       "      <td>U</td>\n",
       "      <td>GT3</td>\n",
       "      <td>T</td>\n",
       "      <td>1</td>\n",
       "      <td>1</td>\n",
       "      <td>at_home</td>\n",
       "      <td>other</td>\n",
       "      <td>...</td>\n",
       "      <td>5</td>\n",
       "      <td>3</td>\n",
       "      <td>3</td>\n",
       "      <td>1</td>\n",
       "      <td>1</td>\n",
       "      <td>3</td>\n",
       "      <td>4</td>\n",
       "      <td>5</td>\n",
       "      <td>5</td>\n",
       "      <td>6</td>\n",
       "    </tr>\n",
       "    <tr>\n",
       "      <th>2</th>\n",
       "      <td>GP</td>\n",
       "      <td>F</td>\n",
       "      <td>15</td>\n",
       "      <td>U</td>\n",
       "      <td>LE3</td>\n",
       "      <td>T</td>\n",
       "      <td>1</td>\n",
       "      <td>1</td>\n",
       "      <td>at_home</td>\n",
       "      <td>other</td>\n",
       "      <td>...</td>\n",
       "      <td>4</td>\n",
       "      <td>3</td>\n",
       "      <td>2</td>\n",
       "      <td>2</td>\n",
       "      <td>3</td>\n",
       "      <td>3</td>\n",
       "      <td>10</td>\n",
       "      <td>7</td>\n",
       "      <td>8</td>\n",
       "      <td>10</td>\n",
       "    </tr>\n",
       "    <tr>\n",
       "      <th>3</th>\n",
       "      <td>GP</td>\n",
       "      <td>F</td>\n",
       "      <td>15</td>\n",
       "      <td>U</td>\n",
       "      <td>GT3</td>\n",
       "      <td>T</td>\n",
       "      <td>4</td>\n",
       "      <td>2</td>\n",
       "      <td>health</td>\n",
       "      <td>services</td>\n",
       "      <td>...</td>\n",
       "      <td>3</td>\n",
       "      <td>2</td>\n",
       "      <td>2</td>\n",
       "      <td>1</td>\n",
       "      <td>1</td>\n",
       "      <td>5</td>\n",
       "      <td>2</td>\n",
       "      <td>15</td>\n",
       "      <td>14</td>\n",
       "      <td>15</td>\n",
       "    </tr>\n",
       "    <tr>\n",
       "      <th>4</th>\n",
       "      <td>GP</td>\n",
       "      <td>F</td>\n",
       "      <td>16</td>\n",
       "      <td>U</td>\n",
       "      <td>GT3</td>\n",
       "      <td>T</td>\n",
       "      <td>3</td>\n",
       "      <td>3</td>\n",
       "      <td>other</td>\n",
       "      <td>other</td>\n",
       "      <td>...</td>\n",
       "      <td>4</td>\n",
       "      <td>3</td>\n",
       "      <td>2</td>\n",
       "      <td>1</td>\n",
       "      <td>2</td>\n",
       "      <td>5</td>\n",
       "      <td>4</td>\n",
       "      <td>6</td>\n",
       "      <td>10</td>\n",
       "      <td>10</td>\n",
       "    </tr>\n",
       "  </tbody>\n",
       "</table>\n",
       "<p>5 rows × 33 columns</p>\n",
       "</div>"
      ],
      "text/plain": [
       "  school sex  age address famsize Pstatus  Medu  Fedu     Mjob      Fjob  ...  \\\n",
       "0     GP   F   18       U     GT3       A     4     4  at_home   teacher  ...   \n",
       "1     GP   F   17       U     GT3       T     1     1  at_home     other  ...   \n",
       "2     GP   F   15       U     LE3       T     1     1  at_home     other  ...   \n",
       "3     GP   F   15       U     GT3       T     4     2   health  services  ...   \n",
       "4     GP   F   16       U     GT3       T     3     3    other     other  ...   \n",
       "\n",
       "  famrel freetime  goout  Dalc  Walc health absences  G1  G2  G3  \n",
       "0      4        3      4     1     1      3        6   5   6   6  \n",
       "1      5        3      3     1     1      3        4   5   5   6  \n",
       "2      4        3      2     2     3      3       10   7   8  10  \n",
       "3      3        2      2     1     1      5        2  15  14  15  \n",
       "4      4        3      2     1     2      5        4   6  10  10  \n",
       "\n",
       "[5 rows x 33 columns]"
      ]
     },
     "execution_count": 17,
     "metadata": {},
     "output_type": "execute_result"
    }
   ],
   "source": [
    "path = '/Users/valentinavidovic/Documents/student-mat.csv'\n",
    "df = pd.read_csv(path, sep=';')\n",
    "df.head()"
   ]
  },
  {
   "cell_type": "code",
   "execution_count": 18,
   "id": "195379f8-facd-4496-b731-4cacafa8b382",
   "metadata": {},
   "outputs": [
    {
     "ename": "NameError",
     "evalue": "name 'df2' is not defined",
     "output_type": "error",
     "traceback": [
      "\u001b[0;31m---------------------------------------------------------------------------\u001b[0m",
      "\u001b[0;31mNameError\u001b[0m                                 Traceback (most recent call last)",
      "Cell \u001b[0;32mIn[18], line 1\u001b[0m\n\u001b[0;32m----> 1\u001b[0m \u001b[43mdf2\u001b[49m[\u001b[38;5;124m'\u001b[39m\u001b[38;5;124mG1\u001b[39m\u001b[38;5;124m'\u001b[39m]\u001b[38;5;241m.\u001b[39munique()\n",
      "\u001b[0;31mNameError\u001b[0m: name 'df2' is not defined"
     ]
    }
   ],
   "source": [
    "df2['G1'].unique()"
   ]
  },
  {
   "cell_type": "code",
   "execution_count": null,
   "id": "727c6d38-35b9-4516-a4fd-2e34d29bf825",
   "metadata": {},
   "outputs": [],
   "source": [
    "df2['G2'].unique()"
   ]
  },
  {
   "cell_type": "markdown",
   "id": "79b9577f-6545-4722-b4db-30efb2f17eaf",
   "metadata": {},
   "source": [
    "## Koeficjent korelacije"
   ]
  },
  {
   "cell_type": "code",
   "execution_count": null,
   "id": "8c83764c-da2f-4725-bf6d-ea4eba0ebca5",
   "metadata": {},
   "outputs": [],
   "source": [
    "np.corrcoef(df2['G1'], df2['G2'])"
   ]
  },
  {
   "cell_type": "markdown",
   "id": "cf661a3d-d9ba-4d77-b1fa-ea41702f06ce",
   "metadata": {},
   "source": [
    "Zaključujemo da su podatci značajno pozitivno korelirani, što je očekivano jer se radi o ocjenama istog učenika u prvom i drugom dijelu godine"
   ]
  },
  {
   "cell_type": "markdown",
   "id": "02a4568f-c916-4c5a-9765-54f0f818b188",
   "metadata": {},
   "source": [
    "## Grafički prikaz točkastim dijagramom"
   ]
  },
  {
   "cell_type": "code",
   "execution_count": null,
   "id": "321b58d9-afed-435e-b538-e4d8fa464699",
   "metadata": {},
   "outputs": [],
   "source": [
    "plt.figure(figsize=(8, 6))  # Postavi veličinu figure\n",
    "plt.scatter(df2['G1'], df2['G2'], color='skyblue', alpha=0.7)\n",
    "plt.title('Točkasti dijagram ocjena iz matematike')\n",
    "plt.xlabel('Prvo polugodište')\n",
    "plt.ylabel('Drugo polugodište')\n",
    "plt.grid(True)\n",
    "plt.show()"
   ]
  },
  {
   "cell_type": "markdown",
   "id": "1ff9917f-0a7c-4901-8b3a-64ff3f992b8a",
   "metadata": {},
   "source": [
    "Promotrimo podatke koji imaju 0 u stupcu G2"
   ]
  },
  {
   "cell_type": "markdown",
   "id": "3dc802ef-dda1-4f1f-94a7-bd9c70d94af7",
   "metadata": {},
   "source": [
    "## Čišćenje podataka"
   ]
  },
  {
   "cell_type": "code",
   "execution_count": null,
   "id": "3da7baaa-85a1-4dae-830e-86cf49ef9c6d",
   "metadata": {},
   "outputs": [],
   "source": [
    "df0 = df2[df2['G2']==0]\n",
    "df0.head(13)"
   ]
  },
  {
   "cell_type": "markdown",
   "id": "8dfbd002-ce6c-44c3-b76c-de3a79e79fe2",
   "metadata": {},
   "source": [
    "Iz tablice smo izbrisali sve podatke za koje je vrijedilo G2 = 0, jer ih smatram pogrešnima"
   ]
  },
  {
   "cell_type": "code",
   "execution_count": null,
   "id": "2474bc64-c4a6-488e-8b67-673c065af5eb",
   "metadata": {},
   "outputs": [],
   "source": [
    "df2 = df2[df2['G2'] != 0]\n",
    "df.info()"
   ]
  },
  {
   "cell_type": "code",
   "execution_count": null,
   "id": "fedc31c8-dfa0-426e-9563-091548f4e61a",
   "metadata": {},
   "outputs": [],
   "source": [
    "plt.figure(figsize=(8, 6))  # Postavi veličinu figure\n",
    "plt.scatter(df2['G1'], df2['G2'], color='skyblue', alpha=0.7)\n",
    "plt.title('Točkasti dijagram ocjena iz matematike')\n",
    "plt.xlabel('Prvo polugodište')\n",
    "plt.ylabel('Drugo polugodište')\n",
    "plt.grid(True)\n",
    "plt.show()"
   ]
  },
  {
   "cell_type": "code",
   "execution_count": null,
   "id": "8573cbc6-5175-4cc6-b4fa-a2123e3afb06",
   "metadata": {},
   "outputs": [],
   "source": [
    "X = df2[['G2']]\n",
    "y = df2['G1'] "
   ]
  },
  {
   "cell_type": "code",
   "execution_count": null,
   "id": "2d23e051-303c-45c2-a2fe-587c327e3e59",
   "metadata": {},
   "outputs": [],
   "source": [
    "model = LinearRegression()\n",
    "model.fit(X, y)\n",
    "\n",
    "print(\"Koeficijent nagiba:\", model.coef_[0])\n",
    "print(\"Intercept:\", model.intercept_)"
   ]
  },
  {
   "cell_type": "code",
   "execution_count": null,
   "id": "b0f17da8-0e9b-47a2-a5ae-cad18c87d5ff",
   "metadata": {},
   "outputs": [],
   "source": [
    "plt.scatter(df2['G1'], df2['G2'], color='skyblue', alpha=0.7)\n",
    "a = model.coef_[0]\n",
    "b = model.intercept_\n",
    "\n",
    "x_values = np.linspace(min(df2['G1']), max(df2['G2']), 100)\n",
    "y_values = a * x_values + b\n",
    "\n",
    "plt.plot(x_values, y_values, color='red', label=f'Linearna regresija: y = {a:.2f}x + {b:.2f}')"
   ]
  },
  {
   "cell_type": "code",
   "execution_count": null,
   "id": "6b1323f6-1af2-4797-88fb-2a42226a4c78",
   "metadata": {},
   "outputs": [],
   "source": []
  }
 ],
 "metadata": {
  "kernelspec": {
   "display_name": "Python 3 (ipykernel)",
   "language": "python",
   "name": "python3"
  },
  "language_info": {
   "codemirror_mode": {
    "name": "ipython",
    "version": 3
   },
   "file_extension": ".py",
   "mimetype": "text/x-python",
   "name": "python",
   "nbconvert_exporter": "python",
   "pygments_lexer": "ipython3",
   "version": "3.12.3"
  }
 },
 "nbformat": 4,
 "nbformat_minor": 5
}
